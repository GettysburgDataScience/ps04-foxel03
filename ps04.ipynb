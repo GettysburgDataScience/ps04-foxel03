{
 "cells": [
  {
   "cell_type": "markdown",
   "id": "83177ee9",
   "metadata": {},
   "source": [
    "## Replace this with your name and Section"
   ]
  },
  {
   "cell_type": "markdown",
   "id": "a1b00660-589c-4adf-91a5-c2875670a724",
   "metadata": {},
   "source": [
    "DS 256 Data Science Programming, Fall 2024\n",
    "\n",
    "Prof Eatai Roth\n",
    "\n",
    "## Problem Set 4\n",
    "Due 11/4/2024 by 5p"
   ]
  },
  {
   "cell_type": "markdown",
   "id": "34ee7898",
   "metadata": {},
   "source": [
    "### Problem 1\n",
    "Write a function ```greaterThan(A, lower_lim)``` that takes as an argument a numpy array A and a number lower_lim and returns an array with every entry less than or equal to lower_lim replaced by zero. That is to say, only the numbers strictly greater than lower_lim remain, the rest are 0."
   ]
  },
  {
   "cell_type": "code",
   "execution_count": 8,
   "id": "6c0848ae",
   "metadata": {},
   "outputs": [],
   "source": [
    "import numpy as np\n",
    "# Source: https://numpy.org/devdocs/reference/generated/numpy.where.html\n",
    "def greaterThan (A, lower_lim):\n",
    "    new_array = np.where(A > lower_lim, A, 0) # 0 is broadcast; keeps only values that are greater than lower_lim\n",
    "    return new_array"
   ]
  },
  {
   "cell_type": "code",
   "execution_count": 10,
   "id": "a57c2f50",
   "metadata": {},
   "outputs": [
    {
     "name": "stdout",
     "output_type": "stream",
     "text": [
      "You passed all the tests!\n"
     ]
    }
   ],
   "source": [
    "A = np.array([1, 2, 3, 4, 5, 6, 7, 8, 9])\n",
    "B = np.array([[-1, 1], [2, -2], [0, 3]])\n",
    "C = np.array([[101.1, 100, 99.9], [99.8, 100.1, 98.9], [103.2, 99, 98]])\n",
    "\n",
    "assert np.all(greaterThan(A, 5) == np.array([0, 0, 0, 0, 0, 6, 7, 8, 9]))\n",
    "assert np.all(greaterThan(B, 0) == np.array([[0, 1], [2, 0], [0, 3]]))\n",
    "assert np.all(greaterThan(C, 100) == np.array([[101.1, 0, 0], [0, 100.1, 0], [103.2, 0, 0]]))\n",
    "\n",
    "print(\"You passed all the tests!\")"
   ]
  },
  {
   "cell_type": "markdown",
   "id": "878a3744",
   "metadata": {},
   "source": [
    "### Problem 2\n",
    "Write a function ```subtractMean(A)``` that takes as an input the numpy array and returns the array with the mean of all the values subtracted from every element."
   ]
  },
  {
   "cell_type": "code",
   "execution_count": 24,
   "id": "c40ea21b",
   "metadata": {},
   "outputs": [],
   "source": [
    "import numpy as np\n",
    "def subtractMean(A):\n",
    "    mean = np.mean(A)\n",
    "    minus_mean = A-mean\n",
    "    return minus_mean"
   ]
  },
  {
   "cell_type": "markdown",
   "id": "8c36e69e",
   "metadata": {},
   "source": [
    "If the tests below aren't passing, check the values of A, B, and C. These should be the same as in the test for Problem 1. If the values in these arrays have changed, why might that be?"
   ]
  },
  {
   "cell_type": "code",
   "execution_count": 26,
   "id": "eee6cfea",
   "metadata": {},
   "outputs": [
    {
     "name": "stdout",
     "output_type": "stream",
     "text": [
      "You passed all the tests!\n"
     ]
    }
   ],
   "source": [
    "assert np.isclose(subtractMean(A), np.array([-4., -3., -2., -1.,  0.,  1.,  2.,  3.,  4.])).all()\n",
    "assert np.isclose(subtractMean(B), np.array([[-1.5,  0.5],[ 1.5, -2.5],[-0.5,  2.5]])).all()\n",
    "assert np.isclose(subtractMean(C), np.array([[ 1.1,  0. , -0.1],[-0.2,  0.1, -1.1],[ 3.2, -1. , -2. ]])).all()\n",
    "\n",
    "print(\"You passed all the tests!\")\n"
   ]
  },
  {
   "cell_type": "markdown",
   "id": "50e5f128",
   "metadata": {},
   "source": [
    "### Problem 3\n",
    "\n",
    "Write a function ```arrayEdges``` that takes as an input an array and returns a 1-D array of all the elements on the edges of the array starting at the upper left corner and working around clockwise. Do not repeat that first element. If the original array is not 2-D, print('Error') and return -1.\n",
    "\n",
    "*Hint*: Get the shape of the array as height and width, calculate the perimeter (remember not to double count the corners), and make an array of zeros the size of the perimeter. Then fill that array.\n",
    "\n",
    "*Hint 2*: The length of the shape of a 2-D array is 2.\n",
    "\n",
    "*Hint 3*: ```dA = A.dtype``` is the data type of A. ```np.zeros().astype(dA)``` creates an array of that type (if A has strings, this will make an array of '0')."
   ]
  },
  {
   "cell_type": "code",
   "execution_count": 21,
   "id": "6165dcb5",
   "metadata": {},
   "outputs": [],
   "source": [
    "'''your code here'''\n",
    "import numpy as np\n",
    "\n",
    "def arrayEdges(A):\n",
    "# If the original array is not 2-D, print('Error') and return -1. Hint 2: The length of the shape of a 2-D array is 2.\n",
    "    if len(A.shape) != 2:\n",
    "        return -1\n",
    "        print ('Error')\n",
    "# Hint: Get the shape of the array as height and width, calculate the perimeter (remember not to double count the corners)\n",
    "    height, width = A.shape\n",
    "    perimeter = 2 * height + 2 * width - 4 # four corners\n",
    "\n",
    "# Hint 3: dA = A.dtype is the data type of A. np.zeros().astype(dA) creates an array of that type\n",
    "    dA = A.dtype\n",
    "    edges = np.zeros(perimeter).astype(dA)"
   ]
  },
  {
   "cell_type": "code",
   "execution_count": 25,
   "id": "b3a4db0a-0bae-4e62-95bb-241b92a642fe",
   "metadata": {},
   "outputs": [
    {
     "name": "stdout",
     "output_type": "stream",
     "text": [
      "None\n"
     ]
    }
   ],
   "source": [
    "print(arrayEdges(B))"
   ]
  },
  {
   "cell_type": "code",
   "execution_count": null,
   "id": "ca5237a2",
   "metadata": {},
   "outputs": [],
   "source": [
    "'''Test your code'''\n",
    "\n",
    "X = np.array([[1, 2, 3], [4, 5, 6], [7, 8, 9]])\n",
    "Y = np.array([['you', 'got', 'this'],['!','correct','problem']])\n",
    "Z = np.array(['but','this','wont', 'work'])\n",
    "\n",
    "assert np.array(arrayEdges(X) == np.array([1, 2, 3, 6, 9, 8, 7, 4])).all()\n",
    "assert np.array(arrayEdges(Y) == np.array(['you', 'got', 'this', 'problem', 'correct', '!'])).all()\n",
    "assert arrayEdges(Z) == -1\n",
    "\n",
    "print(\"You passed all the tests! (disregard that it says Error above...it's supposed to do that)\")\n"
   ]
  },
  {
   "cell_type": "markdown",
   "id": "f943e82d",
   "metadata": {},
   "source": [
    "## Palmer's Penguins\n",
    "\n",
    "Below I've imported the Palmer's Penguins dataset, courtesy of Alison Horst's github. Fill in the blanks in Problem 4. You should add code cells below to write code to find the answers."
   ]
  },
  {
   "cell_type": "code",
   "execution_count": 37,
   "id": "ee42d632",
   "metadata": {},
   "outputs": [
    {
     "data": {
      "text/html": [
       "<div>\n",
       "<style scoped>\n",
       "    .dataframe tbody tr th:only-of-type {\n",
       "        vertical-align: middle;\n",
       "    }\n",
       "\n",
       "    .dataframe tbody tr th {\n",
       "        vertical-align: top;\n",
       "    }\n",
       "\n",
       "    .dataframe thead th {\n",
       "        text-align: right;\n",
       "    }\n",
       "</style>\n",
       "<table border=\"1\" class=\"dataframe\">\n",
       "  <thead>\n",
       "    <tr style=\"text-align: right;\">\n",
       "      <th></th>\n",
       "      <th>species</th>\n",
       "      <th>island</th>\n",
       "      <th>bill_length_mm</th>\n",
       "      <th>bill_depth_mm</th>\n",
       "      <th>flipper_length_mm</th>\n",
       "      <th>body_mass_g</th>\n",
       "      <th>sex</th>\n",
       "      <th>year</th>\n",
       "    </tr>\n",
       "  </thead>\n",
       "  <tbody>\n",
       "    <tr>\n",
       "      <th>0</th>\n",
       "      <td>Adelie</td>\n",
       "      <td>Torgersen</td>\n",
       "      <td>39.1</td>\n",
       "      <td>18.7</td>\n",
       "      <td>181.0</td>\n",
       "      <td>3750.0</td>\n",
       "      <td>male</td>\n",
       "      <td>2007</td>\n",
       "    </tr>\n",
       "    <tr>\n",
       "      <th>1</th>\n",
       "      <td>Adelie</td>\n",
       "      <td>Torgersen</td>\n",
       "      <td>39.5</td>\n",
       "      <td>17.4</td>\n",
       "      <td>186.0</td>\n",
       "      <td>3800.0</td>\n",
       "      <td>female</td>\n",
       "      <td>2007</td>\n",
       "    </tr>\n",
       "    <tr>\n",
       "      <th>2</th>\n",
       "      <td>Adelie</td>\n",
       "      <td>Torgersen</td>\n",
       "      <td>40.3</td>\n",
       "      <td>18.0</td>\n",
       "      <td>195.0</td>\n",
       "      <td>3250.0</td>\n",
       "      <td>female</td>\n",
       "      <td>2007</td>\n",
       "    </tr>\n",
       "    <tr>\n",
       "      <th>3</th>\n",
       "      <td>Adelie</td>\n",
       "      <td>Torgersen</td>\n",
       "      <td>NaN</td>\n",
       "      <td>NaN</td>\n",
       "      <td>NaN</td>\n",
       "      <td>NaN</td>\n",
       "      <td>NaN</td>\n",
       "      <td>2007</td>\n",
       "    </tr>\n",
       "    <tr>\n",
       "      <th>4</th>\n",
       "      <td>Adelie</td>\n",
       "      <td>Torgersen</td>\n",
       "      <td>36.7</td>\n",
       "      <td>19.3</td>\n",
       "      <td>193.0</td>\n",
       "      <td>3450.0</td>\n",
       "      <td>female</td>\n",
       "      <td>2007</td>\n",
       "    </tr>\n",
       "  </tbody>\n",
       "</table>\n",
       "</div>"
      ],
      "text/plain": [
       "  species     island  bill_length_mm  bill_depth_mm  flipper_length_mm  \\\n",
       "0  Adelie  Torgersen            39.1           18.7              181.0   \n",
       "1  Adelie  Torgersen            39.5           17.4              186.0   \n",
       "2  Adelie  Torgersen            40.3           18.0              195.0   \n",
       "3  Adelie  Torgersen             NaN            NaN                NaN   \n",
       "4  Adelie  Torgersen            36.7           19.3              193.0   \n",
       "\n",
       "   body_mass_g     sex  year  \n",
       "0       3750.0    male  2007  \n",
       "1       3800.0  female  2007  \n",
       "2       3250.0  female  2007  \n",
       "3          NaN     NaN  2007  \n",
       "4       3450.0  female  2007  "
      ]
     },
     "execution_count": 37,
     "metadata": {},
     "output_type": "execute_result"
    }
   ],
   "source": [
    "import pandas as pd\n",
    "\n",
    "pp_df = pd.read_csv('https://raw.githubusercontent.com/allisonhorst/palmerpenguins/main/inst/extdata/penguins.csv')\n",
    "pp_df.head()"
   ]
  },
  {
   "cell_type": "code",
   "execution_count": 39,
   "id": "98378bc3-cb7b-4baf-96ee-ba63aa7df931",
   "metadata": {},
   "outputs": [
    {
     "data": {
      "text/html": [
       "<div>\n",
       "<style scoped>\n",
       "    .dataframe tbody tr th:only-of-type {\n",
       "        vertical-align: middle;\n",
       "    }\n",
       "\n",
       "    .dataframe tbody tr th {\n",
       "        vertical-align: top;\n",
       "    }\n",
       "\n",
       "    .dataframe thead th {\n",
       "        text-align: right;\n",
       "    }\n",
       "</style>\n",
       "<table border=\"1\" class=\"dataframe\">\n",
       "  <thead>\n",
       "    <tr style=\"text-align: right;\">\n",
       "      <th></th>\n",
       "      <th>bill_length_mm</th>\n",
       "      <th>bill_depth_mm</th>\n",
       "      <th>flipper_length_mm</th>\n",
       "      <th>body_mass_g</th>\n",
       "      <th>year</th>\n",
       "    </tr>\n",
       "  </thead>\n",
       "  <tbody>\n",
       "    <tr>\n",
       "      <th>count</th>\n",
       "      <td>342.000000</td>\n",
       "      <td>342.000000</td>\n",
       "      <td>342.000000</td>\n",
       "      <td>342.000000</td>\n",
       "      <td>344.000000</td>\n",
       "    </tr>\n",
       "    <tr>\n",
       "      <th>mean</th>\n",
       "      <td>43.921930</td>\n",
       "      <td>17.151170</td>\n",
       "      <td>200.915205</td>\n",
       "      <td>4201.754386</td>\n",
       "      <td>2008.029070</td>\n",
       "    </tr>\n",
       "    <tr>\n",
       "      <th>std</th>\n",
       "      <td>5.459584</td>\n",
       "      <td>1.974793</td>\n",
       "      <td>14.061714</td>\n",
       "      <td>801.954536</td>\n",
       "      <td>0.818356</td>\n",
       "    </tr>\n",
       "    <tr>\n",
       "      <th>min</th>\n",
       "      <td>32.100000</td>\n",
       "      <td>13.100000</td>\n",
       "      <td>172.000000</td>\n",
       "      <td>2700.000000</td>\n",
       "      <td>2007.000000</td>\n",
       "    </tr>\n",
       "    <tr>\n",
       "      <th>25%</th>\n",
       "      <td>39.225000</td>\n",
       "      <td>15.600000</td>\n",
       "      <td>190.000000</td>\n",
       "      <td>3550.000000</td>\n",
       "      <td>2007.000000</td>\n",
       "    </tr>\n",
       "    <tr>\n",
       "      <th>50%</th>\n",
       "      <td>44.450000</td>\n",
       "      <td>17.300000</td>\n",
       "      <td>197.000000</td>\n",
       "      <td>4050.000000</td>\n",
       "      <td>2008.000000</td>\n",
       "    </tr>\n",
       "    <tr>\n",
       "      <th>75%</th>\n",
       "      <td>48.500000</td>\n",
       "      <td>18.700000</td>\n",
       "      <td>213.000000</td>\n",
       "      <td>4750.000000</td>\n",
       "      <td>2009.000000</td>\n",
       "    </tr>\n",
       "    <tr>\n",
       "      <th>max</th>\n",
       "      <td>59.600000</td>\n",
       "      <td>21.500000</td>\n",
       "      <td>231.000000</td>\n",
       "      <td>6300.000000</td>\n",
       "      <td>2009.000000</td>\n",
       "    </tr>\n",
       "  </tbody>\n",
       "</table>\n",
       "</div>"
      ],
      "text/plain": [
       "       bill_length_mm  bill_depth_mm  flipper_length_mm  body_mass_g  \\\n",
       "count      342.000000     342.000000         342.000000   342.000000   \n",
       "mean        43.921930      17.151170         200.915205  4201.754386   \n",
       "std          5.459584       1.974793          14.061714   801.954536   \n",
       "min         32.100000      13.100000         172.000000  2700.000000   \n",
       "25%         39.225000      15.600000         190.000000  3550.000000   \n",
       "50%         44.450000      17.300000         197.000000  4050.000000   \n",
       "75%         48.500000      18.700000         213.000000  4750.000000   \n",
       "max         59.600000      21.500000         231.000000  6300.000000   \n",
       "\n",
       "              year  \n",
       "count   344.000000  \n",
       "mean   2008.029070  \n",
       "std       0.818356  \n",
       "min    2007.000000  \n",
       "25%    2007.000000  \n",
       "50%    2008.000000  \n",
       "75%    2009.000000  \n",
       "max    2009.000000  "
      ]
     },
     "execution_count": 39,
     "metadata": {},
     "output_type": "execute_result"
    }
   ],
   "source": [
    "# Answers to first two questions\n",
    "# Source: https://pandas.pydata.org/docs/user_guide/10min.html\n",
    "pp_df.describe()"
   ]
  },
  {
   "cell_type": "code",
   "execution_count": 51,
   "id": "a7ca3dad-e3df-4634-a146-4641b7851a80",
   "metadata": {},
   "outputs": [
    {
     "name": "stdout",
     "output_type": "stream",
     "text": [
      "species\n",
      "Adelie       152\n",
      "Gentoo       124\n",
      "Chinstrap     68\n",
      "Name: count, dtype: int64\n"
     ]
    }
   ],
   "source": [
    "import pandas as pd\n",
    "# Source: https://pandas.pydata.org/docs/user_guide/basics.html#basics-discretization\n",
    "pp_df = pd.read_csv('https://raw.githubusercontent.com/allisonhorst/palmerpenguins/main/inst/extdata/penguins.csv')\n",
    "species_counts = pp_df['species'].value_counts()\n",
    "print(species_counts)"
   ]
  },
  {
   "cell_type": "markdown",
   "id": "54a3fab2",
   "metadata": {},
   "source": [
    "### Problem 4\n",
    "\n",
    " 1. How many penguins were recorded? \n",
    "\n",
    "  - 344 penguins (found in count)\n",
    "\n",
    " 2. In terms of body mass, how big were the smallest and biggest penguins measured?\n",
    "\n",
    "(found in min and max rows of .describe)\n",
    "  - Min: 2700g\n",
    "  - Max: 6300g\n",
    "\n",
    " 3. What species of penguins were recorded and how many of each?\n",
    "\n",
    " - Adelie: 152\n",
    " - Gentoo: 124\n",
    " - Chinstrap: 68"
   ]
  },
  {
   "cell_type": "markdown",
   "id": "f487bce0",
   "metadata": {},
   "source": [
    "### Problem 5\n",
    "\n",
    "Plot a histogram of the body masses of penguins grouped by species. Make sure to include a title, axis labels, and a legend."
   ]
  },
  {
   "cell_type": "code",
   "execution_count": null,
   "id": "00b6d6ea",
   "metadata": {},
   "outputs": [],
   "source": [
    "'''your code here'''\n"
   ]
  },
  {
   "cell_type": "markdown",
   "id": "25a9dd58-0368-4269-bf39-5d601ac58eb9",
   "metadata": {},
   "source": [
    "### Challenge Problem\n",
    "\n",
    "Write a function ```interleaveArrays``` that takes as arguments two numpy arrays A and B and return a new numpy array with the rows of A and B interleaved, starting with A. If you run out of rows from one matrix or the other complete the array with the remaining rows of the longer array.\n",
    "\n",
    "If the two arrays do not have the same number of columns, print('Error: Shapes of arrays are not compatible.') and return -1\n",
    "If the two arrays contain different data types, print('Error: Types of arrays are not compatible.') and return -2\n",
    "\n",
    "Example:\n",
    "\n",
    "```\n",
    "G = np.array([[1, 2, 3], [4, 5, 6]])\n",
    "H = np.array([[10, 20, 30], [100, 200, 300], [1000, 2000, 3000]])\n",
    "\n",
    "interleave(G,H)\n",
    "```\n",
    "returns\n",
    "```\n",
    "array([[1,2,3], [10,20,30], [4, 5, 6], [100, 200, 300], [1000, 2000, 3000]])\n",
    "```"
   ]
  },
  {
   "cell_type": "code",
   "execution_count": 1,
   "id": "825784c9-b952-450f-b667-13311d8e27cc",
   "metadata": {},
   "outputs": [],
   "source": [
    "'''your code here'''\n",
    "    \n"
   ]
  }
 ],
 "metadata": {
  "kernelspec": {
   "display_name": "Python 3 (ipykernel)",
   "language": "python",
   "name": "python3"
  },
  "language_info": {
   "codemirror_mode": {
    "name": "ipython",
    "version": 3
   },
   "file_extension": ".py",
   "mimetype": "text/x-python",
   "name": "python",
   "nbconvert_exporter": "python",
   "pygments_lexer": "ipython3",
   "version": "3.12.4"
  }
 },
 "nbformat": 4,
 "nbformat_minor": 5
}
